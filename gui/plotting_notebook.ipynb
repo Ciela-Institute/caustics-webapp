{
 "cells": [
  {
   "cell_type": "code",
   "execution_count": 1,
   "id": "36e9f8fd-81fb-43c2-ad57-27eeff97ec74",
   "metadata": {},
   "outputs": [],
   "source": [
    "import os\n",
    "import matplotlib.pyplot as plt\n",
    "import streamlit as st\n",
    "from plotly.subplots import make_subplots\n",
    "import plotly.express as px\n",
    "import plotly.graph_objects as go"
   ]
  },
  {
   "cell_type": "code",
   "execution_count": 2,
   "id": "a3f12415-1e65-4a3e-ad4e-ba6e3415ecca",
   "metadata": {},
   "outputs": [],
   "source": [
    "import torch\n",
    "import numpy as np\n",
    "import caustics\n",
    "from caustics.utils import get_meshgrid\n",
    "from app_configs import (\n",
    "    lens_slider_configs,\n",
    "    source_slider_configs,\n",
    "    name_map,\n",
    "    default_params,\n",
    ")\n",
    "\n",
    "from skimage import measure"
   ]
  },
  {
   "cell_type": "code",
   "execution_count": 3,
   "id": "9b756898-c997-423c-93bb-4e498466d641",
   "metadata": {},
   "outputs": [],
   "source": [
    "def caustic_critical_line(lens, x, z_s, res, simulation_size, upsample_factor=1, device=\"cpu\"):\n",
    "    thx, thy = get_meshgrid(\n",
    "        res / upsample_factor,\n",
    "        upsample_factor * simulation_size,\n",
    "        upsample_factor * simulation_size,\n",
    "        dtype=torch.float32,\n",
    "        device=device,\n",
    "    )\n",
    "    A = lens.jacobian_lens_equation(thx, thy, z_s, lens.pack(x))\n",
    "\n",
    "    # Compute A's determinant at every point\n",
    "    detA = torch.linalg.det(A)\n",
    "\n",
    "    # Generate caustic using skimage's find_contours\n",
    "    contours = measure.find_contours(detA.cpu().numpy(), 0.0)\n",
    "\n",
    "    x1s = []\n",
    "    x2s = []\n",
    "    y1s = []\n",
    "    y2s = []\n",
    "    for contour in contours:\n",
    "        # Convert contour to device tensor\n",
    "        contour = torch.tensor(contour, device=device)\n",
    "        # Raytrace the points to the source plane\n",
    "        x1 = contour[:, 1]  # * res / upsample_factor + simulation_size / 2\n",
    "        x2 = contour[:, 0]  # * res / upsample_factor + simulation_size / 2\n",
    "        y1, y2 = lens.raytrace(\n",
    "            (x1 - simulation_size / 2) * res,\n",
    "            (x2 - simulation_size / 2) * res,\n",
    "            z_s,\n",
    "            params=lens.pack(x),\n",
    "        )\n",
    "        y1s.append(y1.cpu().numpy() / res + simulation_size / 2)\n",
    "        y2s.append(y2.cpu().numpy() / res + simulation_size / 2)\n",
    "        x1s.append(x1.cpu().numpy())\n",
    "        x2s.append(x2.cpu().numpy())\n",
    "\n",
    "    return x1s, x2s, y1s, y2s"
   ]
  },
  {
   "cell_type": "code",
   "execution_count": 4,
   "id": "6c8a931b-8baf-4f9c-bcf4-715f5c74aa22",
   "metadata": {},
   "outputs": [],
   "source": [
    "simulation_size = 1024\n",
    "fov = 6.5\n",
    "deltam = fov / simulation_size"
   ]
  },
  {
   "cell_type": "code",
   "execution_count": 16,
   "id": "e62c119b-05ed-4f4c-ab60-99135bd04c00",
   "metadata": {},
   "outputs": [],
   "source": [
    "x_source = torch.tensor([-0., -0., 1.0, 0., 0.8, 0.3])\n",
    "x_lens = torch.tensor([0., 0., 0.5, 0., 2.])\n",
    "x_all = torch.cat((x_lens, x_source))\n",
    "z_lens = 1.0\n",
    "z_source = 2.0\n",
    "cosmology = caustics.FlatLambdaCDM(name=\"cosmo\")\n",
    "lenses = [name_map[\"SIE\"](cosmology, **default_params[\"SIE\"], z_l=z_lens)]\n",
    "lens = caustics.SinglePlane(lenses=lenses, cosmology=cosmology, z_l=z_lens)"
   ]
  },
  {
   "cell_type": "code",
   "execution_count": 17,
   "id": "95596a04-ee0f-439d-9f87-ea23b063e990",
   "metadata": {},
   "outputs": [],
   "source": [
    "src = name_map[\"Sersic\"](name=\"src\", **default_params[\"Sersic\"])\n",
    "minisim = caustics.Lens_Source(\n",
    "    lens=lens, source=src, pixelscale=deltam, pixels_x=simulation_size, z_s=z_source\n",
    ")\n",
    "x1s, x2s, y1s, y2s = caustic_critical_line(\n",
    "    lens=lens, x=x_lens, z_s=z_source, res=deltam, simulation_size=simulation_size\n",
    ")\n"
   ]
  },
  {
   "cell_type": "code",
   "execution_count": 18,
   "id": "8a308ac5-47d1-435c-ab6a-ef1e9ced4cda",
   "metadata": {},
   "outputs": [],
   "source": [
    "fig2 = make_subplots()\n",
    "res = minisim(x_all, lens_source=False).numpy()\n",
    "res = (res - np.min(res)) / (np.max(res) - np.min(res))\n",
    "fig2.add_heatmap(z=res, zmin=0, zmax=1, coloraxis=\"coloraxis\", hoverinfo=\"skip\")\n",
    "\n",
    "for c in range(len(y1s)):\n",
    "    fig2.add_trace(\n",
    "        go.Scatter(\n",
    "            x=y1s[c], y=y2s[c], mode=\"lines\", line=dict(color=\"white\"), hoverinfo=\"skip\"\n",
    "        )\n",
    "    )\n",
    "fig2.update_layout(\n",
    "    width=400,  # Adjust as needed\n",
    "    height=400,  # Adjust as needed\n",
    "    coloraxis_showscale=False,\n",
    "    margin=dict(l=0, r=0, t=0, b=0),\n",
    "    showlegend=False,\n",
    "    coloraxis=dict(colorscale=\"inferno\", cmin=-0.12, cmax=1),\n",
    ")\n",
    "fig2.write_image(\"sie1_back.pdf\")"
   ]
  },
  {
   "cell_type": "code",
   "execution_count": 19,
   "id": "b11131ee-9ff0-48d8-af1a-473a39fcdc6e",
   "metadata": {},
   "outputs": [],
   "source": [
    "fig1 = make_subplots()\n",
    "res = minisim(x_all, lens_source=True).numpy()\n",
    "res = (res - np.min(res)) / (np.max(res) - np.min(res))\n",
    "fig1.add_heatmap(z=res, zmin=0, zmax=1, coloraxis=\"coloraxis\", hoverinfo=\"skip\")\n",
    "for c in range(len(x1s)):\n",
    "    fig1.add_trace(\n",
    "        go.Scatter(\n",
    "            x=x1s[c], y=x2s[c], mode=\"lines\", line=dict(color=\"white\"), hoverinfo=\"skip\"\n",
    "        )\n",
    "    )\n",
    "fig1.update_layout(\n",
    "    width=400,  # Adjust as needed\n",
    "    height=400,  # Adjust as needed\n",
    "    coloraxis_showscale=False,\n",
    "    margin=dict(l=0, r=0, t=0, b=0),\n",
    "    showlegend=False,\n",
    "    coloraxis=dict(colorscale=\"inferno\", cmin=-0.12, cmax=1),\n",
    ")\n",
    "fig1.write_image(\"sie1.pdf\")"
   ]
  },
  {
   "cell_type": "code",
   "execution_count": null,
   "id": "ec0db039-2a8b-41e7-9159-5b830a46995b",
   "metadata": {},
   "outputs": [],
   "source": []
  }
 ],
 "metadata": {
  "kernelspec": {
   "display_name": "lensing",
   "language": "python",
   "name": "lensing"
  },
  "language_info": {
   "codemirror_mode": {
    "name": "ipython",
    "version": 3
   },
   "file_extension": ".py",
   "mimetype": "text/x-python",
   "name": "python",
   "nbconvert_exporter": "python",
   "pygments_lexer": "ipython3",
   "version": "3.10.10"
  }
 },
 "nbformat": 4,
 "nbformat_minor": 5
}
